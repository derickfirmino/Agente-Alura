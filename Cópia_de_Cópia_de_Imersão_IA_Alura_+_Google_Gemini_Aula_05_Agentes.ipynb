{
  "nbformat": 4,
  "nbformat_minor": 0,
  "metadata": {
    "colab": {
      "provenance": []
    },
    "kernelspec": {
      "name": "python3",
      "display_name": "Python 3"
    },
    "language_info": {
      "name": "python"
    }
  },
  "cells": [
    {
      "cell_type": "code",
      "source": [
        "%pip -q install google-genai"
      ],
      "metadata": {
        "id": "UCCbECexLk_h"
      },
      "execution_count": 1,
      "outputs": []
    },
    {
      "cell_type": "code",
      "source": [
        "# Configura a API Key do Google Gemini\n",
        "\n",
        "import os\n",
        "from google.colab import userdata\n",
        "\n",
        "os.environ[\"GOOGLE_API_KEY\"] = userdata.get('GOOGLE_API_KEY')"
      ],
      "metadata": {
        "id": "NfCqHo1tLk8P"
      },
      "execution_count": 3,
      "outputs": []
    },
    {
      "cell_type": "code",
      "source": [
        "# Configura o cliente da SDK do Gemini\n",
        "\n",
        "from google import genai\n",
        "\n",
        "client = genai.Client()\n",
        "\n",
        "MODEL_ID = \"gemini-2.0-flash\""
      ],
      "metadata": {
        "id": "bV4w0H5TLk5g"
      },
      "execution_count": 4,
      "outputs": []
    },
    {
      "cell_type": "code",
      "source": [
        "# Pergunta ao Gemini uma informação mais recente que seu conhecimento\n",
        "\n",
        "from IPython.display import HTML, Markdown\n",
        "\n",
        "# Perguntar pro modelo quando é a próxima imersão de IA ###############################################\n",
        "\n",
        "resposta = client.models.generate_content(\n",
        "    model=MODEL_ID,\n",
        "    contents='Quando é a próxima Imersão IA com Google Gemini da Alura?',\n",
        ")\n",
        "\n",
        "\n",
        "# Exibe a resposta na tela\n",
        "display(Markdown(f\"Resposta:\\n {resposta.text}\"))"
      ],
      "metadata": {
        "id": "HwVP7Xi34Zuw",
        "colab": {
          "base_uri": "https://localhost:8080/",
          "height": 145
        },
        "outputId": "d09008e2-d554-462d-b80e-883ff4d7dbee"
      },
      "execution_count": 5,
      "outputs": [
        {
          "output_type": "display_data",
          "data": {
            "text/plain": [
              "<IPython.core.display.Markdown object>"
            ],
            "text/markdown": "Resposta:\n Para saber a data da próxima Imersão IA com Google Gemini da Alura, a melhor forma é verificar diretamente no site da Alura:\n\n*   **Site da Alura:** Procure na seção de cursos, imersões ou eventos. Geralmente, eles têm um calendário ou uma página específica para anunciar as próximas datas.\n*   **Redes Sociais da Alura:** Siga a Alura no LinkedIn, Instagram, Twitter e outras redes. Eles costumam anunciar as novidades por lá.\n*   **Comunidade Alura:** Se você já é aluno, participe da comunidade da Alura, pois as datas dos eventos são frequentemente divulgadas por lá.\n\nAssim, você terá a informação mais precisa e atualizada."
          },
          "metadata": {}
        }
      ]
    },
    {
      "cell_type": "code",
      "source": [
        "# Pergunta ao Gemini uma informação utilizando a busca do Google como contexto\n",
        "\n",
        "response = client.models.generate_content(\n",
        "    model=MODEL_ID,\n",
        "    contents='Quando é a próxima Imersão IA com Google Gemini da Alura?',\n",
        "    config={\"tools\": [{\"google_search\": {}}]}\n",
        ")\n",
        "\n",
        "# Exibe a resposta na tela\n",
        "display(Markdown(f\"Response:\\n {response.text}\"))"
      ],
      "metadata": {
        "id": "yXaZd7iZ4ftw",
        "colab": {
          "base_uri": "https://localhost:8080/",
          "height": 122
        },
        "outputId": "80b47c1d-b20f-49c2-8a34-41e96683e539"
      },
      "execution_count": 6,
      "outputs": [
        {
          "output_type": "display_data",
          "data": {
            "text/plain": [
              "<IPython.core.display.Markdown object>"
            ],
            "text/markdown": "Response:\n A próxima Imersão IA com Google Gemini da Alura acontecerá entre os dias 12 e 16 de maio de 2025. Durante este período, você terá acesso a 5 aulas online com o objetivo de aprender na prática a criar prompts poderosos, automatizar tarefas e desenvolver um sistema de agentes autônomos que trabalham sozinhos, executando tarefas por você.\n\nAs inscrições estão abertas até o dia 11 de maio e podem ser feitas no [site da Alura](https://www.alura.com.br/imersao-ia-google-gemini-ii). O curso é totalmente online e gratuito, e não há pré-requisitos para participar. Ao final, você receberá um certificado Alura + Google.\n"
          },
          "metadata": {}
        }
      ]
    },
    {
      "cell_type": "code",
      "source": [
        "# Exibe a busca\n",
        "print(f\"Busca realizada: {response.candidates[0].grounding_metadata.web_search_queries}\")\n",
        "# Exibe as URLs nas quais ele se baseou\n",
        "print(f\"Páginas utilizadas na resposta: {', '.join([site.web.title for site in response.candidates[0].grounding_metadata.grounding_chunks])}\")\n",
        "print()\n",
        "display(HTML(response.candidates[0].grounding_metadata.search_entry_point.rendered_content))"
      ],
      "metadata": {
        "id": "xHSNlTd84heJ",
        "colab": {
          "base_uri": "https://localhost:8080/",
          "height": 117
        },
        "outputId": "7f447e47-9c82-4c55-c2d5-63243256a26a"
      },
      "execution_count": 7,
      "outputs": [
        {
          "output_type": "stream",
          "name": "stdout",
          "text": [
            "Busca realizada: ['próxima Imersão IA com Google Gemini Alura', 'Alura Imersão IA com Google Gemini']\n",
            "Páginas utilizadas na resposta: starten.tech, alura.com.br, tecmundo.com.br, educacao.mg.gov.br\n",
            "\n"
          ]
        },
        {
          "output_type": "display_data",
          "data": {
            "text/plain": [
              "<IPython.core.display.HTML object>"
            ],
            "text/html": [
              "<style>\n",
              ".container {\n",
              "  align-items: center;\n",
              "  border-radius: 8px;\n",
              "  display: flex;\n",
              "  font-family: Google Sans, Roboto, sans-serif;\n",
              "  font-size: 14px;\n",
              "  line-height: 20px;\n",
              "  padding: 8px 12px;\n",
              "}\n",
              ".chip {\n",
              "  display: inline-block;\n",
              "  border: solid 1px;\n",
              "  border-radius: 16px;\n",
              "  min-width: 14px;\n",
              "  padding: 5px 16px;\n",
              "  text-align: center;\n",
              "  user-select: none;\n",
              "  margin: 0 8px;\n",
              "  -webkit-tap-highlight-color: transparent;\n",
              "}\n",
              ".carousel {\n",
              "  overflow: auto;\n",
              "  scrollbar-width: none;\n",
              "  white-space: nowrap;\n",
              "  margin-right: -12px;\n",
              "}\n",
              ".headline {\n",
              "  display: flex;\n",
              "  margin-right: 4px;\n",
              "}\n",
              ".gradient-container {\n",
              "  position: relative;\n",
              "}\n",
              ".gradient {\n",
              "  position: absolute;\n",
              "  transform: translate(3px, -9px);\n",
              "  height: 36px;\n",
              "  width: 9px;\n",
              "}\n",
              "@media (prefers-color-scheme: light) {\n",
              "  .container {\n",
              "    background-color: #fafafa;\n",
              "    box-shadow: 0 0 0 1px #0000000f;\n",
              "  }\n",
              "  .headline-label {\n",
              "    color: #1f1f1f;\n",
              "  }\n",
              "  .chip {\n",
              "    background-color: #ffffff;\n",
              "    border-color: #d2d2d2;\n",
              "    color: #5e5e5e;\n",
              "    text-decoration: none;\n",
              "  }\n",
              "  .chip:hover {\n",
              "    background-color: #f2f2f2;\n",
              "  }\n",
              "  .chip:focus {\n",
              "    background-color: #f2f2f2;\n",
              "  }\n",
              "  .chip:active {\n",
              "    background-color: #d8d8d8;\n",
              "    border-color: #b6b6b6;\n",
              "  }\n",
              "  .logo-dark {\n",
              "    display: none;\n",
              "  }\n",
              "  .gradient {\n",
              "    background: linear-gradient(90deg, #fafafa 15%, #fafafa00 100%);\n",
              "  }\n",
              "}\n",
              "@media (prefers-color-scheme: dark) {\n",
              "  .container {\n",
              "    background-color: #1f1f1f;\n",
              "    box-shadow: 0 0 0 1px #ffffff26;\n",
              "  }\n",
              "  .headline-label {\n",
              "    color: #fff;\n",
              "  }\n",
              "  .chip {\n",
              "    background-color: #2c2c2c;\n",
              "    border-color: #3c4043;\n",
              "    color: #fff;\n",
              "    text-decoration: none;\n",
              "  }\n",
              "  .chip:hover {\n",
              "    background-color: #353536;\n",
              "  }\n",
              "  .chip:focus {\n",
              "    background-color: #353536;\n",
              "  }\n",
              "  .chip:active {\n",
              "    background-color: #464849;\n",
              "    border-color: #53575b;\n",
              "  }\n",
              "  .logo-light {\n",
              "    display: none;\n",
              "  }\n",
              "  .gradient {\n",
              "    background: linear-gradient(90deg, #1f1f1f 15%, #1f1f1f00 100%);\n",
              "  }\n",
              "}\n",
              "</style>\n",
              "<div class=\"container\">\n",
              "  <div class=\"headline\">\n",
              "    <svg class=\"logo-light\" width=\"18\" height=\"18\" viewBox=\"9 9 35 35\" fill=\"none\" xmlns=\"http://www.w3.org/2000/svg\">\n",
              "      <path fill-rule=\"evenodd\" clip-rule=\"evenodd\" d=\"M42.8622 27.0064C42.8622 25.7839 42.7525 24.6084 42.5487 23.4799H26.3109V30.1568H35.5897C35.1821 32.3041 33.9596 34.1222 32.1258 35.3448V39.6864H37.7213C40.9814 36.677 42.8622 32.2571 42.8622 27.0064V27.0064Z\" fill=\"#4285F4\"/>\n",
              "      <path fill-rule=\"evenodd\" clip-rule=\"evenodd\" d=\"M26.3109 43.8555C30.9659 43.8555 34.8687 42.3195 37.7213 39.6863L32.1258 35.3447C30.5898 36.3792 28.6306 37.0061 26.3109 37.0061C21.8282 37.0061 18.0195 33.9811 16.6559 29.906H10.9194V34.3573C13.7563 39.9841 19.5712 43.8555 26.3109 43.8555V43.8555Z\" fill=\"#34A853\"/>\n",
              "      <path fill-rule=\"evenodd\" clip-rule=\"evenodd\" d=\"M16.6559 29.8904C16.3111 28.8559 16.1074 27.7588 16.1074 26.6146C16.1074 25.4704 16.3111 24.3733 16.6559 23.3388V18.8875H10.9194C9.74388 21.2072 9.06992 23.8247 9.06992 26.6146C9.06992 29.4045 9.74388 32.022 10.9194 34.3417L15.3864 30.8621L16.6559 29.8904V29.8904Z\" fill=\"#FBBC05\"/>\n",
              "      <path fill-rule=\"evenodd\" clip-rule=\"evenodd\" d=\"M26.3109 16.2386C28.85 16.2386 31.107 17.1164 32.9095 18.8091L37.8466 13.8719C34.853 11.082 30.9659 9.3736 26.3109 9.3736C19.5712 9.3736 13.7563 13.245 10.9194 18.8875L16.6559 23.3388C18.0195 19.2636 21.8282 16.2386 26.3109 16.2386V16.2386Z\" fill=\"#EA4335\"/>\n",
              "    </svg>\n",
              "    <svg class=\"logo-dark\" width=\"18\" height=\"18\" viewBox=\"0 0 48 48\" xmlns=\"http://www.w3.org/2000/svg\">\n",
              "      <circle cx=\"24\" cy=\"23\" fill=\"#FFF\" r=\"22\"/>\n",
              "      <path d=\"M33.76 34.26c2.75-2.56 4.49-6.37 4.49-11.26 0-.89-.08-1.84-.29-3H24.01v5.99h8.03c-.4 2.02-1.5 3.56-3.07 4.56v.75l3.91 2.97h.88z\" fill=\"#4285F4\"/>\n",
              "      <path d=\"M15.58 25.77A8.845 8.845 0 0 0 24 31.86c1.92 0 3.62-.46 4.97-1.31l4.79 3.71C31.14 36.7 27.65 38 24 38c-5.93 0-11.01-3.4-13.45-8.36l.17-1.01 4.06-2.85h.8z\" fill=\"#34A853\"/>\n",
              "      <path d=\"M15.59 20.21a8.864 8.864 0 0 0 0 5.58l-5.03 3.86c-.98-2-1.53-4.25-1.53-6.64 0-2.39.55-4.64 1.53-6.64l1-.22 3.81 2.98.22 1.08z\" fill=\"#FBBC05\"/>\n",
              "      <path d=\"M24 14.14c2.11 0 4.02.75 5.52 1.98l4.36-4.36C31.22 9.43 27.81 8 24 8c-5.93 0-11.01 3.4-13.45 8.36l5.03 3.85A8.86 8.86 0 0 1 24 14.14z\" fill=\"#EA4335\"/>\n",
              "    </svg>\n",
              "    <div class=\"gradient-container\"><div class=\"gradient\"></div></div>\n",
              "  </div>\n",
              "  <div class=\"carousel\">\n",
              "    <a class=\"chip\" href=\"https://vertexaisearch.cloud.google.com/grounding-api-redirect/AbF9wXH0dxaLR64UQEY3EHPG9khLktAG8_7RP7f5nY0M8QQLgufnWqqYbOXdV5-gek1Ak_ZQ0EOmC-i6n-ZB7XVLGyIR74c-sP-WUsYobfaV9Y1ozuJ76E57QZsspLDl1u-o3PtlURwuQ7z5tL_vYzc9xRdgrOBkqp-_RD0ee-NcuRfJAHXalLq5EaEiZs81EsfNGq52LopNzIQ6MOKrZroXDL1KpMACGgn1RjBd\">Alura Imersão IA com Google Gemini</a>\n",
              "    <a class=\"chip\" href=\"https://vertexaisearch.cloud.google.com/grounding-api-redirect/AbF9wXGojPQgcztxUaGDJJ6vkXogrlPik-fMg4UX-ZYxu7_lVlcQ6Y4uSAyfhFRJn7mdaIWB1O5VNinhulpRH_ItPmZ2u7yE6KsbmBF0A2OGXD2Pr4mjxO1G1a2I6Lj_sPrFsuHzs8Lkr-ZCfcOw0V-5Rbo66BL5IB-dTw4fEynXipCLj65uUIsddvylT_mpNFqMZ1Tk9DVasAhQu6S7JxQ27Iuv-957QKrOz8l-wp1SV4ZOiNUxquJ89tg=\">próxima Imersão IA com Google Gemini Alura</a>\n",
              "  </div>\n",
              "</div>\n"
            ]
          },
          "metadata": {}
        }
      ]
    },
    {
      "cell_type": "code",
      "source": [
        "# Instalar Framework ADK de agentes do Google ################################################\n",
        "!pip install -q google_adk"
      ],
      "metadata": {
        "id": "hvZ3UnPI4jhJ",
        "colab": {
          "base_uri": "https://localhost:8080/"
        },
        "outputId": "25643a3d-e40a-40c8-ef5d-070d27275ff9"
      },
      "execution_count": 8,
      "outputs": [
        {
          "output_type": "stream",
          "name": "stdout",
          "text": [
            "\u001b[?25l   \u001b[90m━━━━━━━━━━━━━━━━━━━━━━━━━━━━━━━━━━━━━━━━\u001b[0m \u001b[32m0.0/1.2 MB\u001b[0m \u001b[31m?\u001b[0m eta \u001b[36m-:--:--\u001b[0m\r\u001b[2K   \u001b[91m━━━━━━━━━━━━━━━━━━━━━━━━━━━━━━━━━━\u001b[0m\u001b[91m╸\u001b[0m\u001b[90m━━━━━\u001b[0m \u001b[32m1.0/1.2 MB\u001b[0m \u001b[31m33.6 MB/s\u001b[0m eta \u001b[36m0:00:01\u001b[0m\r\u001b[2K   \u001b[90m━━━━━━━━━━━━━━━━━━━━━━━━━━━━━━━━━━━━━━━━\u001b[0m \u001b[32m1.2/1.2 MB\u001b[0m \u001b[31m20.2 MB/s\u001b[0m eta \u001b[36m0:00:00\u001b[0m\n",
            "\u001b[2K   \u001b[90m━━━━━━━━━━━━━━━━━━━━━━━━━━━━━━━━━━━━━━━━\u001b[0m \u001b[32m232.1/232.1 kB\u001b[0m \u001b[31m13.0 MB/s\u001b[0m eta \u001b[36m0:00:00\u001b[0m\n",
            "\u001b[2K   \u001b[90m━━━━━━━━━━━━━━━━━━━━━━━━━━━━━━━━━━━━━━━━\u001b[0m \u001b[32m95.2/95.2 kB\u001b[0m \u001b[31m6.2 MB/s\u001b[0m eta \u001b[36m0:00:00\u001b[0m\n",
            "\u001b[2K   \u001b[90m━━━━━━━━━━━━━━━━━━━━━━━━━━━━━━━━━━━━━━━━\u001b[0m \u001b[32m217.1/217.1 kB\u001b[0m \u001b[31m14.0 MB/s\u001b[0m eta \u001b[36m0:00:00\u001b[0m\n",
            "\u001b[2K   \u001b[90m━━━━━━━━━━━━━━━━━━━━━━━━━━━━━━━━━━━━━━━━\u001b[0m \u001b[32m334.1/334.1 kB\u001b[0m \u001b[31m19.0 MB/s\u001b[0m eta \u001b[36m0:00:00\u001b[0m\n",
            "\u001b[2K   \u001b[90m━━━━━━━━━━━━━━━━━━━━━━━━━━━━━━━━━━━━━━━━\u001b[0m \u001b[32m125.1/125.1 kB\u001b[0m \u001b[31m7.0 MB/s\u001b[0m eta \u001b[36m0:00:00\u001b[0m\n",
            "\u001b[2K   \u001b[90m━━━━━━━━━━━━━━━━━━━━━━━━━━━━━━━━━━━━━━━━\u001b[0m \u001b[32m65.8/65.8 kB\u001b[0m \u001b[31m4.7 MB/s\u001b[0m eta \u001b[36m0:00:00\u001b[0m\n",
            "\u001b[2K   \u001b[90m━━━━━━━━━━━━━━━━━━━━━━━━━━━━━━━━━━━━━━━━\u001b[0m \u001b[32m119.0/119.0 kB\u001b[0m \u001b[31m7.9 MB/s\u001b[0m eta \u001b[36m0:00:00\u001b[0m\n",
            "\u001b[2K   \u001b[90m━━━━━━━━━━━━━━━━━━━━━━━━━━━━━━━━━━━━━━━━\u001b[0m \u001b[32m194.9/194.9 kB\u001b[0m \u001b[31m10.8 MB/s\u001b[0m eta \u001b[36m0:00:00\u001b[0m\n",
            "\u001b[2K   \u001b[90m━━━━━━━━━━━━━━━━━━━━━━━━━━━━━━━━━━━━━━━━\u001b[0m \u001b[32m62.5/62.5 kB\u001b[0m \u001b[31m4.2 MB/s\u001b[0m eta \u001b[36m0:00:00\u001b[0m\n",
            "\u001b[2K   \u001b[90m━━━━━━━━━━━━━━━━━━━━━━━━━━━━━━━━━━━━━━━━\u001b[0m \u001b[32m103.3/103.3 kB\u001b[0m \u001b[31m7.0 MB/s\u001b[0m eta \u001b[36m0:00:00\u001b[0m\n",
            "\u001b[2K   \u001b[90m━━━━━━━━━━━━━━━━━━━━━━━━━━━━━━━━━━━━━━━━\u001b[0m \u001b[32m44.4/44.4 kB\u001b[0m \u001b[31m2.5 MB/s\u001b[0m eta \u001b[36m0:00:00\u001b[0m\n",
            "\u001b[2K   \u001b[90m━━━━━━━━━━━━━━━━━━━━━━━━━━━━━━━━━━━━━━━━\u001b[0m \u001b[32m72.0/72.0 kB\u001b[0m \u001b[31m4.1 MB/s\u001b[0m eta \u001b[36m0:00:00\u001b[0m\n",
            "\u001b[?25h"
          ]
        }
      ]
    },
    {
      "cell_type": "code",
      "execution_count": 9,
      "metadata": {
        "id": "aePV2bdfDeoW"
      },
      "outputs": [],
      "source": [
        "from google.adk.agents import Agent\n",
        "from google.adk.runners import Runner\n",
        "from google.adk.sessions import InMemorySessionService\n",
        "from google.adk.tools import google_search\n",
        "from google.genai import types  # Para criar conteúdos (Content e Part)\n",
        "from datetime import date\n",
        "import textwrap # Para formatar melhor a saída de texto\n",
        "from IPython.display import display, Markdown # Para exibir texto formatado no Colab\n",
        "import requests # Para fazer requisições HTTP\n",
        "import warnings\n",
        "\n",
        "warnings.filterwarnings(\"ignore\")"
      ]
    },
    {
      "cell_type": "code",
      "source": [
        "# Função auxiliar que envia uma mensagem para um agente via Runner e retorna a resposta final\n",
        "def call_agent(agent: Agent, message_text: str) -> str:\n",
        "    # Cria um serviço de sessão em memória\n",
        "    session_service = InMemorySessionService()\n",
        "    # Cria uma nova sessão (você pode personalizar os IDs conforme necessário)\n",
        "    session = session_service.create_session(app_name=agent.name, user_id=\"user1\", session_id=\"session1\")\n",
        "    # Cria um Runner para o agente\n",
        "    runner = Runner(agent=agent, app_name=agent.name, session_service=session_service)\n",
        "    # Cria o conteúdo da mensagem de entrada\n",
        "    content = types.Content(role=\"user\", parts=[types.Part(text=message_text)])\n",
        "\n",
        "    final_response = \"\"\n",
        "    # Itera assincronamente pelos eventos retornados durante a execução do agente\n",
        "    for event in runner.run(user_id=\"user1\", session_id=\"session1\", new_message=content):\n",
        "        if event.is_final_response():\n",
        "          for part in event.content.parts:\n",
        "            if part.text is not None:\n",
        "              final_response += part.text\n",
        "              final_response += \"\\n\"\n",
        "    return final_response"
      ],
      "metadata": {
        "id": "_xP4lWhsS5ko"
      },
      "execution_count": 10,
      "outputs": []
    },
    {
      "cell_type": "code",
      "source": [
        "# Função auxiliar para exibir texto formatado em Markdown no Colab\n",
        "def to_markdown(text):\n",
        "  text = text.replace('•', '  *')\n",
        "  return Markdown(textwrap.indent(text, '> ', predicate=lambda _: True))"
      ],
      "metadata": {
        "id": "8dosiodaxfFR"
      },
      "execution_count": 11,
      "outputs": []
    },
    {
      "cell_type": "code",
      "source": [
        "##########################################\n",
        "# --- Agente 1: Buscador de Notícias --- #\n",
        "##########################################\n",
        "def ctb_1_prompt(topico, data_de_hoje):\n",
        "    melhorador_de_prompt = Agent(\n",
        "        name=\"ctb_1_prompt\",\n",
        "        model=\"gemini-2.0-flash\",\n",
        "        description = \"Recebe o prompt do aluno; identifica o tipo; analisa o prompt e identifica o principal objetivo; reformula o prompt\",\n",
        "        instruction = \"\"\"\n",
        "          Tarefas:\n",
        "            tarefa_1:\n",
        "              Ao receber o prompt enviado pelo aluno, defina o tipo de comando, se é: pergunta, comando ou instrução. Feito isso, guarde o prompt e a definição que você deu a ele com o seguinte nome: informação_1; Para usa-lo na tarefa_2.\n",
        "\n",
        "            tarefa_2:\n",
        "              Feita a \"tarefa_1\" analise o material \"informação_1\" q foi guardado na \"tarefa_1\"; Ponha-o em questionamento em relação aos seguintes tópicos:\n",
        "                Tema Central: Qual é o assunto principal abordado.\n",
        "                Formato de Resposta Esperado: Texto explicativo, passo a passo, lista, comparação, etc.\n",
        "                Objetivo Didático: O que o aluno parece querer entender, resolver ou aprender com aquilo.\n",
        "\n",
        "            tarefa_3:\n",
        "              Crie um novo prompt baseado nas respostas do questionamento feito na \"tarefa_2\". (subistituindo o prompt mandado pelo aluno).\n",
        "        \"\"\"\n",
        "    )\n",
        "    entrada_do_ctb_melhorador = f\"Tópico: {topico}\\nData de hoje: {data_de_hoje}\"\n",
        "    lancamentos = call_agent(melhorador_de_prompt, entrada_do_ctb_melhorador)\n",
        "    return lancamentos\n",
        "    # Executa o agente"
      ],
      "metadata": {
        "id": "o8bqIfi_DyH8"
      },
      "execution_count": 44,
      "outputs": []
    },
    {
      "cell_type": "code",
      "source": [
        "################################################\n",
        "# --- Agente 2: Planejador de posts --- #\n",
        "################################################\n",
        "def ctb_2_dados(topico, lancamentos_buscados):\n",
        "    coletor_de_dados = Agent(\n",
        "        name=\"ctb_2_dados\",\n",
        "        model=\"gemini-2.0-flash\",\n",
        "        description=\"Agente responsável pela coleta de dados referente a salicitação\",\n",
        "        tools=[google_search],\n",
        "        # Inserir as instruções do Agente Planejador #################################################\n",
        "        instruction=\"\"\"\n",
        "          Regras:\n",
        "            1. Ao buscar no google, faça a busca e coleta de dados, tendo como primissa: Informações mais atuais; Sites que tenham boa avaliação; Sites oficiais a respeito do conteúdo em questão.\n",
        "            2. Ao coletar os documentos, analiseos para manter a qualidade e confiança dos conteúdos.\n",
        "\n",
        "          tarefa_1:\n",
        "            Analise o prompt gerado pelo \"ctb_1_prompt\", separe em tema e subtemas o contúdo solicitado no prompt do \"ctb_1_prompt\".\n",
        "            Após analisar e separar o tema com os subtemas, faça uma busca no google para coletar dados (textos, documentos e links) diretamente ligados ao tema e subtemas.\n",
        "            Ao coletar os dados, documentos e links, separe em blocos esses conteúdos, cada bloco com um tema, e dentro de cada bloco, coloque os dados (textos, documentos e links) coletados organizando os dados nos blocos que os dados correspondam ao tema do respectivo bloco.\n",
        "        \"\"\"\n",
        "    )\n",
        "\n",
        "    entrada_do_ctb_coletor = f\"Tópico:{topico}\\nLançamentos buscados: {lancamentos_buscados}\"\n",
        "    # Executa o agente\n",
        "    plano_do_post = call_agent(coletor_de_dados, entrada_do_ctb_coletor)\n",
        "    return plano_do_post"
      ],
      "metadata": {
        "id": "y3VO1uo5_ghO"
      },
      "execution_count": 43,
      "outputs": []
    },
    {
      "cell_type": "code",
      "source": [
        "######################################\n",
        "# --- Agente 3: Redator do Post --- #\n",
        "######################################\n",
        "def ctb_3_redator(topico, coletar_dados):\n",
        "    redator_de_dados = Agent(\n",
        "        name=\"ctb_3_redator\",\n",
        "        model=\"gemini-2.0-flash\",\n",
        "        description=\"Agente responsável por organisar todo conteúdo gerado, e aplicar as regras de identação do documento\",\n",
        "        instruction=\"\"\"\n",
        "          Regras:\n",
        "            1. Seja:\n",
        "              Minusioso.\n",
        "              Cuidadoso.\n",
        "              Analista.\n",
        "            2. Faça revisões ao produzir o contúdo solicitado.\n",
        "            3. Não use palavras ou termos alegóricos.\n",
        "            4. Seja: pragmático; sério; objetivo; questionador; imparcial; realista.\n",
        "            5. Ao entregar um resultado por texto, não faça uma abordagem muito longa, vá direto ao assunto principal, seja perspicaz e pragmático em o faze-lo\n",
        "            6. Ao usar termos técnicos, colocando o significado do termo entre parenteses. Exemplo: Este rapáz é obtuso \"(pouco inteligente)\" em dizer tamanha loucura.\n",
        "            7. O conteúdo deve ser organizado, tendo 1 tema principal com uma breve descrição de até 240 caracteres. Após a descrição do tema principal, deve seguir com os subtemas e seus respectivos tópicos internos. além disso, cada tópico deve tex um exemplo explicativo para ajudar o aluno a se contestualizar melhor com o conteúdo.\n",
        "\n",
        "          Tarefas:\n",
        "            tarefa_1:\n",
        "              Analise od dados gerados pelo \"ctb_2_dados\".\n",
        "              Verifique se está havendo: Redundancia; Repetições, desnecessárias; conteúdo fora do seu contexto.\n",
        "              Organise os dados em uma sequencia lógica, que seja fiél ao tema principal. Use a regra número \"7\" como base principal para realisar essa tarefa.\n",
        "\n",
        "            \"\"\"\n",
        "    )\n",
        "    entrada_do_agente_redator_de_dados = f\"Tópico: {topico}\\nOrganizar dados: {coletar_dados}\"\n",
        "    # Executa o agente\n",
        "    rascunho = call_agent(redator_de_dados, entrada_do_agente_redator_de_dados)\n",
        "    return rascunho"
      ],
      "metadata": {
        "id": "uOqlg2TRLVh1"
      },
      "execution_count": 55,
      "outputs": []
    },
    {
      "cell_type": "code",
      "source": [
        "##########################################\n",
        "# --- Agente 4: Revisor de Qualidade --- #\n",
        "##########################################\n",
        "def ctb_4_explicador(topico, organizar_dados):\n",
        "    ctb_explicador = Agent(\n",
        "        name=\"ctb_4_explicador\",\n",
        "        model=\"gemini-2.0-flash\",\n",
        "        description=\"Agente responsávl por explicar para o aluno o conteúdo.\",\n",
        "        instruction=\"\"\"\n",
        "            Regras:\n",
        "              1. Divida o conteúdo em: Tema principal - subtemas - tópicos e exemplos. A seguir um exemplo para uma melhor compreensão.\n",
        "              6. Seja objetivo e centrado no conteúdo que está sendo abordado.\n",
        "\n",
        "            tarefa_1: Após ter feito a divisões, divicão essa que foi feita na regra número \"1\".\n",
        "            \"\"\"\n",
        "    )\n",
        "    entrada_do_agente_explicador_do_assunto = f\"Tópico: {topico}\\nRascunho: {organizar_dados}\"\n",
        "    # Executa o agente\n",
        "    texto_revisado = call_agent(ctb_explicador, entrada_do_agente_explicador_do_assunto)\n",
        "    return texto_revisado"
      ],
      "metadata": {
        "id": "_aTb1SdkLeT6"
      },
      "execution_count": 64,
      "outputs": []
    },
    {
      "cell_type": "code",
      "source": [
        "data_de_hoje = date.today().strftime(\"%d/%m/%Y\")\n",
        "\n",
        "print(\"Vamos aprender! 🚀\")\n",
        "\n",
        "# --- Obter o Tópico do Usuário ---\n",
        "topico = input(\"Oque voce quer aprender?: \")\n",
        "\n",
        "# Inserir lógica do sistema de agentes ######\n",
        "if not topico:\n",
        "  print(\"Voce não disse oque quer estudar. Pode fazer uma descrição simples, que eu faço o resto.\")\n",
        "\n",
        "else:\n",
        "    print(f\"Hum! Ótimo tema, vamos lá então {topico}\")\n",
        "\n",
        "\n",
        "\n",
        "#####    ---------------------  x X x  -------------------------    ######\n",
        "\n",
        "\n",
        "\n",
        "    lancamentos = ctb_1_prompt(topico, data_de_hoje)\n",
        "\n",
        "\n",
        "    print(\"\\n--- Resultado do Agente 1 (ctb_1_prompt) ---\\n\")\n",
        "    display(to_markdown(lancamentos))\n",
        "\n",
        "\n",
        "\n",
        "#####    ---------------------  x X x  -------------------------    ######\n",
        "\n",
        "\n",
        "\n",
        "    coletar_dados = ctb_2_dados(topico, lancamentos)\n",
        "\n",
        "\n",
        "    print(\"\\n--- Resultado do Agente 2 (ctb_2_dados) ---\\n\")\n",
        "    display(to_markdown(coletar_dados))\n",
        "\n",
        "\n",
        "\n",
        "#####    ---------------------  x X x  -------------------------    ######\n",
        "\n",
        "\n",
        "\n",
        "    organizar_dados = ctb_3_redator(topico, coletar_dados)\n",
        "\n",
        "\n",
        "    print(\"\\n--- Resultado do Agente 2 (ctb_3_redator) ---\\n\")\n",
        "    display(to_markdown(organizar_dados))\n",
        "\n",
        "\n",
        "\n",
        "#####    ---------------------  x X x  -------------------------    ######\n",
        "\n",
        "\n",
        "\n",
        "    professor = ctb_4_explicador(topico, organizar_dados)\n",
        "\n",
        "\n",
        "\n",
        "    print(\"\\n--- Resultado do Agente 2 (ctb_3_redator) ---\\n\")\n",
        "    display(to_markdown(professor))\n",
        "\n",
        "    print(\"----------------------------------\")\n"
      ],
      "metadata": {
        "id": "630ummxz4myx",
        "colab": {
          "base_uri": "https://localhost:8080/",
          "height": 1000
        },
        "outputId": "0d46861e-93b9-43e3-d51b-3ebf686979f0"
      },
      "execution_count": 65,
      "outputs": [
        {
          "name": "stdout",
          "output_type": "stream",
          "text": [
            "Vamos aprender! 🚀\n",
            "Oque voce quer aprender?: me explique oque é um átomo\n"
          ]
        },
        {
          "output_type": "stream",
          "name": "stderr",
          "text": [
            "ERROR:asyncio:Task exception was never retrieved\n",
            "future: <Task finished name='Task-177' coro=<AsyncClient.aclose() done, defined at /usr/local/lib/python3.11/dist-packages/httpx/_client.py:1978> exception=RuntimeError('Event loop is closed')>\n",
            "Traceback (most recent call last):\n",
            "  File \"/usr/local/lib/python3.11/dist-packages/httpx/_client.py\", line 1985, in aclose\n",
            "    await self._transport.aclose()\n",
            "  File \"/usr/local/lib/python3.11/dist-packages/httpx/_transports/default.py\", line 406, in aclose\n",
            "    await self._pool.aclose()\n",
            "  File \"/usr/local/lib/python3.11/dist-packages/httpcore/_async/connection_pool.py\", line 353, in aclose\n",
            "    await self._close_connections(closing_connections)\n",
            "  File \"/usr/local/lib/python3.11/dist-packages/httpcore/_async/connection_pool.py\", line 345, in _close_connections\n",
            "    await connection.aclose()\n",
            "  File \"/usr/local/lib/python3.11/dist-packages/httpcore/_async/connection.py\", line 173, in aclose\n",
            "    await self._connection.aclose()\n",
            "  File \"/usr/local/lib/python3.11/dist-packages/httpcore/_async/http11.py\", line 258, in aclose\n",
            "    await self._network_stream.aclose()\n",
            "  File \"/usr/local/lib/python3.11/dist-packages/httpcore/_backends/anyio.py\", line 53, in aclose\n",
            "    await self._stream.aclose()\n",
            "  File \"/usr/local/lib/python3.11/dist-packages/anyio/streams/tls.py\", line 216, in aclose\n",
            "    await self.transport_stream.aclose()\n",
            "  File \"/usr/local/lib/python3.11/dist-packages/anyio/_backends/_asyncio.py\", line 1314, in aclose\n",
            "    self._transport.close()\n",
            "  File \"/usr/lib/python3.11/asyncio/selector_events.py\", line 864, in close\n",
            "    self._loop.call_soon(self._call_connection_lost, None)\n",
            "  File \"/usr/lib/python3.11/asyncio/base_events.py\", line 762, in call_soon\n",
            "    self._check_closed()\n",
            "  File \"/usr/lib/python3.11/asyncio/base_events.py\", line 520, in _check_closed\n",
            "    raise RuntimeError('Event loop is closed')\n",
            "RuntimeError: Event loop is closed\n"
          ]
        },
        {
          "output_type": "stream",
          "name": "stdout",
          "text": [
            "Hum! Ótimo tema, vamos lá então me explique oque é um átomo\n",
            "\n",
            "--- Resultado do Agente 1 (ctb_1_prompt) ---\n",
            "\n"
          ]
        },
        {
          "output_type": "display_data",
          "data": {
            "text/plain": [
              "<IPython.core.display.Markdown object>"
            ],
            "text/markdown": "> Okay, vamos processar sua solicitação.\n> \n> **tarefa_1:**\n> \n> *   **Prompt:** \"Tópico: me explique oque é um átomo\"\n> *   **Tipo de Comando:** Pergunta\n> \n> Informação_1 Salva.\n> \n> **tarefa_2:**\n> \n> Analisando a Informação_1:\n> \n> *   **Tema Central:** O átomo (sua definição e conceito básico).\n> *   **Formato de Resposta Esperado:** Texto explicativo (abordagem didática, provavelmente buscando uma explicação clara e acessível).\n> *   **Objetivo Didático:** Entender a definição e o conceito fundamental de um átomo. O aluno busca uma explicação introdutória sobre o que é um átomo.\n> \n> **tarefa_3:**\n> \n> Novo Prompt:\n> \n> \"Explique o que é um átomo de forma clara e didática. Inclua os componentes básicos de um átomo (prótons, nêutrons e elétrons) e onde eles se localizam. Use uma linguagem simples, como se estivesse explicando para alguém que nunca ouviu falar sobre o assunto antes.\"\n> \n"
          },
          "metadata": {}
        },
        {
          "output_type": "stream",
          "name": "stdout",
          "text": [
            "\n",
            "--- Resultado do Agente 2 (ctb_2_dados) ---\n",
            "\n"
          ]
        },
        {
          "output_type": "display_data",
          "data": {
            "text/plain": [
              "<IPython.core.display.Markdown object>"
            ],
            "text/markdown": "> Okay, entendi! Farei uma busca no Google para coletar informações sobre o que é um átomo, seus componentes e como explicá-lo de forma didática. Aqui estão as buscas que farei:\n> \n> \n> Com base nas informações coletadas, aqui está uma explicação sobre o que é um átomo:\n> \n> **O que é um Átomo?**\n> \n> Imagine que você pegasse um pedaço de qualquer coisa – uma folha de papel, uma gota de água, até mesmo o seu corpo – e começasse a dividi-lo em pedaços cada vez menores. Chegaria a um ponto em que não seria mais possível dividir sem perder as características originais daquela matéria. Essa \"menor parte\" é o átomo.\n> \n> *   O átomo é a unidade básica da matéria. É a menor porção de um elemento químico que ainda mantém as propriedades desse elemento. A palavra \"átomo\" vem do grego e significa \"indivisível\", embora hoje saibamos que os átomos são, na verdade, feitos de partes ainda menores.\n> \n> **Componentes de um Átomo:**\n> \n> Um átomo é composto por três partículas principais:\n> \n> 1.  **Prótons:**\n>     *   Localização: Núcleo (o centro do átomo).\n>     *   Carga: Positiva (+).\n>     *   Função: O número de prótons determina qual elemento químico é aquele átomo. Por exemplo, todos os átomos com 1 próton são hidrogênio, todos com 6 prótons são carbono, e assim por diante.\n> 2.  **Nêutrons:**\n>     *   Localização: Núcleo (junto com os prótons).\n>     *   Carga: Neutra (sem carga).\n>     *   Função: Ajudam a manter o núcleo estável. Átomos do mesmo elemento podem ter diferentes números de nêutrons; essas variações são chamadas de isótopos.\n> 3.  **Elétrons:**\n>     *   Localização: Orbitam ao redor do núcleo em uma região chamada eletrosfera.\n>     *   Carga: Negativa (-).\n>     *   Função: Determinam as propriedades químicas do átomo e como ele interage com outros átomos para formar moléculas.\n> \n> **Estrutura do Átomo:**\n> \n> *   **Núcleo:** É a parte central do átomo, onde se concentram os prótons e nêutrons. O núcleo é muito pequeno e denso, contendo quase toda a massa do átomo.\n> *   **Eletrosfera:** É a região ao redor do núcleo onde os elétrons se movem. A eletrosfera é muito maior que o núcleo e é, em grande parte, espaço vazio. Os elétrons não orbitam o núcleo em caminhos fixos como planetas ao redor do sol; em vez disso, eles se movem em regiões de probabilidade chamadas orbitais.\n> \n> **Em resumo:** Imagine o átomo como um pequeno sistema solar, onde o núcleo (com prótons e nêutrons) é o sol, e os elétrons são os planetas orbitando ao redor. A quantidade de prótons define o elemento, e os elétrons definem como esse átomo se comporta e se liga a outros átomos.\n> \n"
          },
          "metadata": {}
        },
        {
          "output_type": "stream",
          "name": "stdout",
          "text": [
            "\n",
            "--- Resultado do Agente 2 (ctb_3_redator) ---\n",
            "\n"
          ]
        },
        {
          "output_type": "display_data",
          "data": {
            "text/plain": [
              "<IPython.core.display.Markdown object>"
            ],
            "text/markdown": "> ## Átomo: A Unidade Fundamental da Matéria\n> \n> O átomo é a menor unidade de um elemento químico que mantém suas propriedades. Essencialmente indivisível na visão original, hoje sabemos que é composto por partículas ainda menores.\n> \n> ### Componentes Atômicos\n> \n> 1.  **Prótons:**\n>     *   **Localização:** Núcleo atômico (região central).\n>     *   **Carga:** Positiva (+).\n>     *   **Função:** Determina o elemento químico. O número de prótons é único para cada elemento.\n> \n>         *   **Exemplo:** Todo átomo com 1 próton é hidrogênio; com 6 prótons, é carbono.\n> 2.  **Nêutrons:**\n>     *   **Localização:** Núcleo atômico (junto com os prótons).\n>     *   **Carga:** Neutra (sem carga elétrica).\n>     *   **Função:** Contribui para a estabilidade do núcleo. Variações no número de nêutrons criam isótopos.\n> \n>         *   **Exemplo:** Carbono-12 e Carbono-14 são isótopos do carbono, com diferentes números de nêutrons.\n> 3.  **Elétrons:**\n>     *   **Localização:** Eletrosfera (região ao redor do núcleo).\n>     *   **Carga:** Negativa (-).\n>     *   **Função:** Define as propriedades químicas e interações com outros átomos.\n> \n>         *   **Exemplo:** A forma como os elétrons se organizam permite que o átomo de hidrogênio se ligue ao oxigênio para formar água.\n> \n> ### Estrutura Atômica\n> \n> 1.  **Núcleo:**\n>     *   Concentra quase toda a massa do átomo.\n>     *   Composto por prótons e nêutrons.\n>     *   Extremamente pequeno e denso.\n> 2.  **Eletrosfera:**\n>     *   Região onde os elétrons orbitam o núcleo.\n>     *   Predominantemente espaço vazio.\n>     *   Elétrons ocupam orbitais (regiões de probabilidade), não caminhos fixos.\n> \n>         *   **Exemplo:** A eletrosfera do átomo de oxigênio contém orbitais que acomodam seus elétrons, permitindo que ele se ligue a outros átomos.\n> \n"
          },
          "metadata": {}
        },
        {
          "output_type": "stream",
          "name": "stdout",
          "text": [
            "\n",
            "--- Resultado do Agente 2 (ctb_3_redator) ---\n",
            "\n"
          ]
        },
        {
          "output_type": "display_data",
          "data": {
            "text/plain": [
              "<IPython.core.display.Markdown object>"
            ],
            "text/markdown": "> ## Átomo: A Unidade Fundamental da Matéria\n> \n> *   **Tema Principal:** Átomo - A menor unidade de um elemento que mantém suas propriedades.\n> \n>     *   **Subtemas:**\n> \n>         1.  Componentes Atômicos\n>         2.  Estrutura Atômica\n>     *   **Tópicos e Exemplos:**\n> \n>         1.  **Componentes Atômicos:**\n> \n>             *   **Prótons:**\n> \n>                 *   **Localização:** Núcleo atômico.\n>                 *   **Carga:** Positiva (+).\n>                 *   **Função:** Determina o elemento químico.\n>                 *   **Exemplo:** Átomos com 1 próton são hidrogênio, com 6 prótons são carbono.\n>             *   **Nêutrons:**\n> \n>                 *   **Localização:** Núcleo atômico.\n>                 *   **Carga:** Neutra (sem carga elétrica).\n>                 *   **Função:** Contribui para a estabilidade do núcleo.\n>                 *   **Exemplo:** Carbono-12 e Carbono-14 (isótopos com diferentes números de nêutrons).\n>             *   **Elétrons:**\n> \n>                 *   **Localização:** Eletrosfera.\n>                 *   **Carga:** Negativa (-).\n>                 *   **Função:** Define as propriedades químicas e interações com outros átomos.\n>                 *   **Exemplo:** Elétrons permitem que o hidrogênio se ligue ao oxigênio para formar água.\n>         2.  **Estrutura Atômica:**\n> \n>             *   **Núcleo:**\n> \n>                 *   Concentra quase toda a massa do átomo.\n>                 *   Composto por prótons e nêutrons.\n>                 *   Extremamente pequeno e denso.\n>             *   **Eletrosfera:**\n> \n>                 *   Região onde os elétrons orbitam o núcleo.\n>                 *   Predominantemente espaço vazio.\n>                 *   Elétrons ocupam orbitais (regiões de probabilidade).\n>                 *   **Exemplo:** A eletrosfera do oxigênio contém orbitais que acomodam seus elétrons, permitindo ligações com outros átomos.\n> \n"
          },
          "metadata": {}
        },
        {
          "output_type": "stream",
          "name": "stdout",
          "text": [
            "----------------------------------\n"
          ]
        }
      ]
    }
  ]
}